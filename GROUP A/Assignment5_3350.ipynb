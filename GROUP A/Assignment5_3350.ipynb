{
 "cells": [
  {
   "cell_type": "code",
   "execution_count": 3,
   "id": "e0b76ab3",
   "metadata": {
    "ExecuteTime": {
     "end_time": "2023-04-25T01:19:22.566601Z",
     "start_time": "2023-04-25T01:19:22.537463Z"
    }
   },
   "outputs": [],
   "source": [
    "#Importing Required Libraries\n",
    "import pandas as pd\n",
    "import numpy as np\n",
    "from sklearn import linear_model\n",
    "import seaborn as sns\n",
    "import matplotlib.pyplot as plt\n",
    "%matplotlib inline\n",
    "from word2number import w2n\n",
    "import scipy.stats as stats\n",
    "import pylab\n",
    "# import pandas as pd: This line imports the Pandas library and assigns it the alias pd.\n",
    "# import numpy as np: This line imports the NumPy library and assigns it the alias np.\n",
    "# from sklearn import linear_model: This line imports the linear_model module from the Scikit-Learn library, which provides various algorithms for linear regression and related tasks.\n",
    "# import seaborn as sns: This line imports the Seaborn library, which provides functions for data visualization and statistical graphics.\n",
    "# import matplotlib.pyplot as plt: This line imports the Pyplot module from the Matplotlib library, which provides functions for creating various types of plots and charts.\n",
    "# %matplotlib inline: This is a Jupyter Notebook magic command that tells Jupyter to display Matplotlib plots inline within the notebook.\n",
    "# from word2number import w2n: This line imports the w2n function from the Word2Number library, which can convert written numbers to numeric values (e.g. \"one\" to 1).\n",
    "# import scipy.stats as stats: This line imports the stats module from the SciPy library, which provides various statistical functions and distributions.\n",
    "# import pylab: This line imports the PyLab module from the Matplotlib library, which provides a MATLAB-like interface for creating plots and charts."
   ]
  },
  {
   "cell_type": "code",
   "execution_count": 4,
   "id": "ac767f71",
   "metadata": {
    "ExecuteTime": {
     "end_time": "2023-04-25T01:19:23.387539Z",
     "start_time": "2023-04-25T01:19:23.350301Z"
    }
   },
   "outputs": [],
   "source": [
    "#Loading dataset in pandas dataframe\n",
    "df=pd.read_csv('Social_Network_Ads.csv')"
   ]
  },
  {
   "cell_type": "code",
   "execution_count": 5,
   "id": "2b39da1d",
   "metadata": {
    "ExecuteTime": {
     "end_time": "2023-04-25T01:19:24.258053Z",
     "start_time": "2023-04-25T01:19:24.218392Z"
    }
   },
   "outputs": [
    {
     "data": {
      "text/html": [
       "<div>\n",
       "<style scoped>\n",
       "    .dataframe tbody tr th:only-of-type {\n",
       "        vertical-align: middle;\n",
       "    }\n",
       "\n",
       "    .dataframe tbody tr th {\n",
       "        vertical-align: top;\n",
       "    }\n",
       "\n",
       "    .dataframe thead th {\n",
       "        text-align: right;\n",
       "    }\n",
       "</style>\n",
       "<table border=\"1\" class=\"dataframe\">\n",
       "  <thead>\n",
       "    <tr style=\"text-align: right;\">\n",
       "      <th></th>\n",
       "      <th>User ID</th>\n",
       "      <th>Gender</th>\n",
       "      <th>Age</th>\n",
       "      <th>EstimatedSalary</th>\n",
       "      <th>Purchased</th>\n",
       "    </tr>\n",
       "  </thead>\n",
       "  <tbody>\n",
       "    <tr>\n",
       "      <th>0</th>\n",
       "      <td>15624510</td>\n",
       "      <td>Male</td>\n",
       "      <td>19</td>\n",
       "      <td>19000</td>\n",
       "      <td>0</td>\n",
       "    </tr>\n",
       "    <tr>\n",
       "      <th>1</th>\n",
       "      <td>15810944</td>\n",
       "      <td>Male</td>\n",
       "      <td>35</td>\n",
       "      <td>20000</td>\n",
       "      <td>0</td>\n",
       "    </tr>\n",
       "    <tr>\n",
       "      <th>2</th>\n",
       "      <td>15668575</td>\n",
       "      <td>Female</td>\n",
       "      <td>26</td>\n",
       "      <td>43000</td>\n",
       "      <td>0</td>\n",
       "    </tr>\n",
       "    <tr>\n",
       "      <th>3</th>\n",
       "      <td>15603246</td>\n",
       "      <td>Female</td>\n",
       "      <td>27</td>\n",
       "      <td>57000</td>\n",
       "      <td>0</td>\n",
       "    </tr>\n",
       "    <tr>\n",
       "      <th>4</th>\n",
       "      <td>15804002</td>\n",
       "      <td>Male</td>\n",
       "      <td>19</td>\n",
       "      <td>76000</td>\n",
       "      <td>0</td>\n",
       "    </tr>\n",
       "  </tbody>\n",
       "</table>\n",
       "</div>"
      ],
      "text/plain": [
       "    User ID  Gender  Age  EstimatedSalary  Purchased\n",
       "0  15624510    Male   19            19000          0\n",
       "1  15810944    Male   35            20000          0\n",
       "2  15668575  Female   26            43000          0\n",
       "3  15603246  Female   27            57000          0\n",
       "4  15804002    Male   19            76000          0"
      ]
     },
     "execution_count": 5,
     "metadata": {},
     "output_type": "execute_result"
    }
   ],
   "source": [
    "#Display first five rows\n",
    "df.head()"
   ]
  },
  {
   "cell_type": "code",
   "execution_count": 6,
   "id": "6081d16e",
   "metadata": {
    "ExecuteTime": {
     "end_time": "2023-04-25T01:19:25.377431Z",
     "start_time": "2023-04-25T01:19:25.356460Z"
    }
   },
   "outputs": [
    {
     "data": {
      "text/plain": [
       "<bound method NDFrame.tail of       User ID  Gender  Age  EstimatedSalary  Purchased\n",
       "0    15624510    Male   19            19000          0\n",
       "1    15810944    Male   35            20000          0\n",
       "2    15668575  Female   26            43000          0\n",
       "3    15603246  Female   27            57000          0\n",
       "4    15804002    Male   19            76000          0\n",
       "..        ...     ...  ...              ...        ...\n",
       "395  15691863  Female   46            41000          1\n",
       "396  15706071    Male   51            23000          1\n",
       "397  15654296  Female   50            20000          1\n",
       "398  15755018    Male   36            33000          0\n",
       "399  15594041  Female   49            36000          1\n",
       "\n",
       "[400 rows x 5 columns]>"
      ]
     },
     "execution_count": 6,
     "metadata": {},
     "output_type": "execute_result"
    }
   ],
   "source": [
    "#Display Last five rows\n",
    "df.tail"
   ]
  },
  {
   "cell_type": "code",
   "execution_count": 7,
   "id": "32063f35",
   "metadata": {
    "ExecuteTime": {
     "end_time": "2023-04-25T01:19:26.290087Z",
     "start_time": "2023-04-25T01:19:26.252765Z"
    }
   },
   "outputs": [
    {
     "name": "stdout",
     "output_type": "stream",
     "text": [
      "<class 'pandas.core.frame.DataFrame'>\n",
      "RangeIndex: 400 entries, 0 to 399\n",
      "Data columns (total 5 columns):\n",
      " #   Column           Non-Null Count  Dtype \n",
      "---  ------           --------------  ----- \n",
      " 0   User ID          400 non-null    int64 \n",
      " 1   Gender           400 non-null    object\n",
      " 2   Age              400 non-null    int64 \n",
      " 3   EstimatedSalary  400 non-null    int64 \n",
      " 4   Purchased        400 non-null    int64 \n",
      "dtypes: int64(4), object(1)\n",
      "memory usage: 15.8+ KB\n"
     ]
    }
   ],
   "source": [
    "# Displays information of whole dataset\n",
    "df.info()"
   ]
  },
  {
   "cell_type": "code",
   "execution_count": 8,
   "id": "5dc7aebb",
   "metadata": {
    "ExecuteTime": {
     "end_time": "2023-04-25T01:19:27.127191Z",
     "start_time": "2023-04-25T01:19:27.068231Z"
    }
   },
   "outputs": [
    {
     "data": {
      "text/html": [
       "<div>\n",
       "<style scoped>\n",
       "    .dataframe tbody tr th:only-of-type {\n",
       "        vertical-align: middle;\n",
       "    }\n",
       "\n",
       "    .dataframe tbody tr th {\n",
       "        vertical-align: top;\n",
       "    }\n",
       "\n",
       "    .dataframe thead th {\n",
       "        text-align: right;\n",
       "    }\n",
       "</style>\n",
       "<table border=\"1\" class=\"dataframe\">\n",
       "  <thead>\n",
       "    <tr style=\"text-align: right;\">\n",
       "      <th></th>\n",
       "      <th>User ID</th>\n",
       "      <th>Age</th>\n",
       "      <th>EstimatedSalary</th>\n",
       "      <th>Purchased</th>\n",
       "    </tr>\n",
       "  </thead>\n",
       "  <tbody>\n",
       "    <tr>\n",
       "      <th>count</th>\n",
       "      <td>4.000000e+02</td>\n",
       "      <td>400.000000</td>\n",
       "      <td>400.000000</td>\n",
       "      <td>400.000000</td>\n",
       "    </tr>\n",
       "    <tr>\n",
       "      <th>mean</th>\n",
       "      <td>1.569154e+07</td>\n",
       "      <td>37.655000</td>\n",
       "      <td>69742.500000</td>\n",
       "      <td>0.357500</td>\n",
       "    </tr>\n",
       "    <tr>\n",
       "      <th>std</th>\n",
       "      <td>7.165832e+04</td>\n",
       "      <td>10.482877</td>\n",
       "      <td>34096.960282</td>\n",
       "      <td>0.479864</td>\n",
       "    </tr>\n",
       "    <tr>\n",
       "      <th>min</th>\n",
       "      <td>1.556669e+07</td>\n",
       "      <td>18.000000</td>\n",
       "      <td>15000.000000</td>\n",
       "      <td>0.000000</td>\n",
       "    </tr>\n",
       "    <tr>\n",
       "      <th>25%</th>\n",
       "      <td>1.562676e+07</td>\n",
       "      <td>29.750000</td>\n",
       "      <td>43000.000000</td>\n",
       "      <td>0.000000</td>\n",
       "    </tr>\n",
       "    <tr>\n",
       "      <th>50%</th>\n",
       "      <td>1.569434e+07</td>\n",
       "      <td>37.000000</td>\n",
       "      <td>70000.000000</td>\n",
       "      <td>0.000000</td>\n",
       "    </tr>\n",
       "    <tr>\n",
       "      <th>75%</th>\n",
       "      <td>1.575036e+07</td>\n",
       "      <td>46.000000</td>\n",
       "      <td>88000.000000</td>\n",
       "      <td>1.000000</td>\n",
       "    </tr>\n",
       "    <tr>\n",
       "      <th>max</th>\n",
       "      <td>1.581524e+07</td>\n",
       "      <td>60.000000</td>\n",
       "      <td>150000.000000</td>\n",
       "      <td>1.000000</td>\n",
       "    </tr>\n",
       "  </tbody>\n",
       "</table>\n",
       "</div>"
      ],
      "text/plain": [
       "            User ID         Age  EstimatedSalary   Purchased\n",
       "count  4.000000e+02  400.000000       400.000000  400.000000\n",
       "mean   1.569154e+07   37.655000     69742.500000    0.357500\n",
       "std    7.165832e+04   10.482877     34096.960282    0.479864\n",
       "min    1.556669e+07   18.000000     15000.000000    0.000000\n",
       "25%    1.562676e+07   29.750000     43000.000000    0.000000\n",
       "50%    1.569434e+07   37.000000     70000.000000    0.000000\n",
       "75%    1.575036e+07   46.000000     88000.000000    1.000000\n",
       "max    1.581524e+07   60.000000    150000.000000    1.000000"
      ]
     },
     "execution_count": 8,
     "metadata": {},
     "output_type": "execute_result"
    }
   ],
   "source": [
    "#Displays initial statistics \n",
    "df.describe()"
   ]
  },
  {
   "cell_type": "code",
   "execution_count": 9,
   "id": "c0cd3e07",
   "metadata": {
    "ExecuteTime": {
     "end_time": "2023-04-25T01:19:37.118401Z",
     "start_time": "2023-04-25T01:19:37.067384Z"
    }
   },
   "outputs": [
    {
     "data": {
      "text/plain": [
       "User ID            0\n",
       "Gender             0\n",
       "Age                0\n",
       "EstimatedSalary    0\n",
       "Purchased          0\n",
       "dtype: int64"
      ]
     },
     "execution_count": 9,
     "metadata": {},
     "output_type": "execute_result"
    }
   ],
   "source": [
    "# Return the count of Null values\n",
    "df.isnull().sum()"
   ]
  },
  {
   "cell_type": "markdown",
   "id": "d422ae36",
   "metadata": {},
   "source": [
    "# Implemeting Logistic Regression"
   ]
  },
  {
   "cell_type": "code",
   "execution_count": 10,
   "id": "3bc0deae",
   "metadata": {
    "ExecuteTime": {
     "end_time": "2023-04-25T01:19:39.061625Z",
     "start_time": "2023-04-25T01:19:39.036294Z"
    }
   },
   "outputs": [
    {
     "name": "stderr",
     "output_type": "stream",
     "text": [
      "C:\\Users\\SKY_NET\\AppData\\Local\\Temp\\ipykernel_4200\\2136002997.py:2: FutureWarning: The default value of numeric_only in DataFrame.corr is deprecated. In a future version, it will default to False. Select only valid columns or specify the value of numeric_only to silence this warning.\n",
      "  df.corr()\n"
     ]
    },
    {
     "data": {
      "text/html": [
       "<div>\n",
       "<style scoped>\n",
       "    .dataframe tbody tr th:only-of-type {\n",
       "        vertical-align: middle;\n",
       "    }\n",
       "\n",
       "    .dataframe tbody tr th {\n",
       "        vertical-align: top;\n",
       "    }\n",
       "\n",
       "    .dataframe thead th {\n",
       "        text-align: right;\n",
       "    }\n",
       "</style>\n",
       "<table border=\"1\" class=\"dataframe\">\n",
       "  <thead>\n",
       "    <tr style=\"text-align: right;\">\n",
       "      <th></th>\n",
       "      <th>User ID</th>\n",
       "      <th>Age</th>\n",
       "      <th>EstimatedSalary</th>\n",
       "      <th>Purchased</th>\n",
       "    </tr>\n",
       "  </thead>\n",
       "  <tbody>\n",
       "    <tr>\n",
       "      <th>User ID</th>\n",
       "      <td>1.000000</td>\n",
       "      <td>-0.000721</td>\n",
       "      <td>0.071097</td>\n",
       "      <td>0.007120</td>\n",
       "    </tr>\n",
       "    <tr>\n",
       "      <th>Age</th>\n",
       "      <td>-0.000721</td>\n",
       "      <td>1.000000</td>\n",
       "      <td>0.155238</td>\n",
       "      <td>0.622454</td>\n",
       "    </tr>\n",
       "    <tr>\n",
       "      <th>EstimatedSalary</th>\n",
       "      <td>0.071097</td>\n",
       "      <td>0.155238</td>\n",
       "      <td>1.000000</td>\n",
       "      <td>0.362083</td>\n",
       "    </tr>\n",
       "    <tr>\n",
       "      <th>Purchased</th>\n",
       "      <td>0.007120</td>\n",
       "      <td>0.622454</td>\n",
       "      <td>0.362083</td>\n",
       "      <td>1.000000</td>\n",
       "    </tr>\n",
       "  </tbody>\n",
       "</table>\n",
       "</div>"
      ],
      "text/plain": [
       "                  User ID       Age  EstimatedSalary  Purchased\n",
       "User ID          1.000000 -0.000721         0.071097   0.007120\n",
       "Age             -0.000721  1.000000         0.155238   0.622454\n",
       "EstimatedSalary  0.071097  0.155238         1.000000   0.362083\n",
       "Purchased        0.007120  0.622454         0.362083   1.000000"
      ]
     },
     "execution_count": 10,
     "metadata": {},
     "output_type": "execute_result"
    }
   ],
   "source": [
    "#Correlation\n",
    "df.corr()\n",
    "# df.corr() computes the pairwise correlation coefficients between the User ID, Age, EstimatedSalary, and Purchased columns of the dataset. \n",
    "# The resulting correlation matrix shows that there is a moderate positive correlation between Age and Purchased (correlation coefficient of 0.622), \n",
    "# and a weak positive correlation between EstimatedSalary and Purchased (correlation coefficient of 0.362). The User ID column has no correlation\n",
    "# with the other columns, as expected."
   ]
  },
  {
   "cell_type": "code",
   "execution_count": 11,
   "id": "27486b75",
   "metadata": {
    "ExecuteTime": {
     "end_time": "2023-04-25T01:19:40.336305Z",
     "start_time": "2023-04-25T01:19:40.007449Z"
    }
   },
   "outputs": [
    {
     "data": {
      "text/plain": [
       "Text(0.5, 1.0, 'Age vs Purchased')"
      ]
     },
     "execution_count": 11,
     "metadata": {},
     "output_type": "execute_result"
    },
    {
     "data": {
      "image/png": "[encoded data removed]",
      "text/plain": [
       "<Figure size 640x480 with 1 Axes>"
      ]
     },
     "metadata": {},
     "output_type": "display_data"
    }
   ],
   "source": [
    "plt.scatter(df['Age'],df['Purchased'])\n",
    "plt.xlabel('Age')\n",
    "plt.ylabel('Purchased')\n",
    "plt.title('Age vs Purchased')\n",
    "# The resulting scatter plot shows that younger people (with lower ages) are less likely to purchase the product advertised in the dataset,\n",
    "# while older people (with higher ages) are more likely to purchase the product."
   ]
  },
  {
   "cell_type": "code",
   "execution_count": 12,
   "id": "ddeb3402",
   "metadata": {
    "ExecuteTime": {
     "end_time": "2023-04-25T01:19:48.093971Z",
     "start_time": "2023-04-25T01:19:48.062442Z"
    }
   },
   "outputs": [],
   "source": [
    "# train_test_split is a function in the scikit-learn library that is used to split a dataset into training and testing sets.\n",
    "from sklearn.model_selection import train_test_split"
   ]
  },
  {
   "cell_type": "code",
   "execution_count": 13,
   "id": "5dcdd14d",
   "metadata": {
    "ExecuteTime": {
     "end_time": "2023-04-25T01:19:49.427129Z",
     "start_time": "2023-04-25T01:19:49.397496Z"
    }
   },
   "outputs": [],
   "source": [
    "# In the code x=df[['Age']] and y=df['Purchased'], we are defining the independent variable x and the dependent variable y for our machine learning model.\n",
    "x=df[['Age']]\n",
    "y=df['Purchased']"
   ]
  },
  {
   "cell_type": "code",
   "execution_count": 14,
   "id": "30ed29b8",
   "metadata": {
    "ExecuteTime": {
     "end_time": "2023-04-25T01:19:50.308481Z",
     "start_time": "2023-04-25T01:19:50.278189Z"
    }
   },
   "outputs": [],
   "source": [
    "x_train,x_test,y_train,y_test=train_test_split(x,y,test_size=0.2)\n",
    "# In the code x_train,x_test,y_train,y_test=train_test_split(x,y,test_size=0.2), we are using the train_test_split function to split the dataset into training \n",
    "# and testing sets. The x variable contains the independent variable Age, and the y variable contains the dependent variable Purchased.\n",
    "# The test_size parameter is set to 0.2, which means that 20% of the dataset will be used for testing, and 80% of the dataset will be used for training. \n",
    "# The train_test_split function randomly shuffles the dataset before splitting it into training and testing sets, so the exact split will be different each time \n",
    "# the code is run.The function returns four variables: x_train, x_test, y_train, and y_test. The x_train and y_train variables contain the training data, and \n",
    "# the x_test and y_test variables contain the testing data. These variables are used to train and evaluate the performance of the logistic regression model."
   ]
  },
  {
   "cell_type": "code",
   "execution_count": 15,
   "id": "896eb2d4",
   "metadata": {
    "ExecuteTime": {
     "end_time": "2023-04-25T01:19:51.468189Z",
     "start_time": "2023-04-25T01:19:51.407502Z"
    }
   },
   "outputs": [],
   "source": [
    "# Creating an instance of the LogisticRegression class from the scikit-learn library.\n",
    "clf=linear_model.LogisticRegression()"
   ]
  },
  {
   "cell_type": "code",
   "execution_count": 16,
   "id": "1c09506a",
   "metadata": {
    "ExecuteTime": {
     "end_time": "2023-04-25T01:19:52.420785Z",
     "start_time": "2023-04-25T01:19:52.371354Z"
    }
   },
   "outputs": [
    {
     "data": {
      "text/html": [
       "<style>#sk-container-id-1 {color: black;background-color: white;}#sk-container-id-1 pre{padding: 0;}#sk-container-id-1 div.sk-toggleable {background-color: white;}#sk-container-id-1 label.sk-toggleable__label {cursor: pointer;display: block;width: 100%;margin-bottom: 0;padding: 0.3em;box-sizing: border-box;text-align: center;}#sk-container-id-1 label.sk-toggleable__label-arrow:before {content: \"▸\";float: left;margin-right: 0.25em;color: #696969;}#sk-container-id-1 label.sk-toggleable__label-arrow:hover:before {color: black;}#sk-container-id-1 div.sk-estimator:hover label.sk-toggleable__label-arrow:before {color: black;}#sk-container-id-1 div.sk-toggleable__content {max-height: 0;max-width: 0;overflow: hidden;text-align: left;background-color: #f0f8ff;}#sk-container-id-1 div.sk-toggleable__content pre {margin: 0.2em;color: black;border-radius: 0.25em;background-color: #f0f8ff;}#sk-container-id-1 input.sk-toggleable__control:checked~div.sk-toggleable__content {max-height: 200px;max-width: 100%;overflow: auto;}#sk-container-id-1 input.sk-toggleable__control:checked~label.sk-toggleable__label-arrow:before {content: \"▾\";}#sk-container-id-1 div.sk-estimator input.sk-toggleable__control:checked~label.sk-toggleable__label {background-color: #d4ebff;}#sk-container-id-1 div.sk-label input.sk-toggleable__control:checked~label.sk-toggleable__label {background-color: #d4ebff;}#sk-container-id-1 input.sk-hidden--visually {border: 0;clip: rect(1px 1px 1px 1px);clip: rect(1px, 1px, 1px, 1px);height: 1px;margin: -1px;overflow: hidden;padding: 0;position: absolute;width: 1px;}#sk-container-id-1 div.sk-estimator {font-family: monospace;background-color: #f0f8ff;border: 1px dotted black;border-radius: 0.25em;box-sizing: border-box;margin-bottom: 0.5em;}#sk-container-id-1 div.sk-estimator:hover {background-color: #d4ebff;}#sk-container-id-1 div.sk-parallel-item::after {content: \"\";width: 100%;border-bottom: 1px solid gray;flex-grow: 1;}#sk-container-id-1 div.sk-label:hover label.sk-toggleable__label {background-color: #d4ebff;}#sk-container-id-1 div.sk-serial::before {content: \"\";position: absolute;border-left: 1px solid gray;box-sizing: border-box;top: 0;bottom: 0;left: 50%;z-index: 0;}#sk-container-id-1 div.sk-serial {display: flex;flex-direction: column;align-items: center;background-color: white;padding-right: 0.2em;padding-left: 0.2em;position: relative;}#sk-container-id-1 div.sk-item {position: relative;z-index: 1;}#sk-container-id-1 div.sk-parallel {display: flex;align-items: stretch;justify-content: center;background-color: white;position: relative;}#sk-container-id-1 div.sk-item::before, #sk-container-id-1 div.sk-parallel-item::before {content: \"\";position: absolute;border-left: 1px solid gray;box-sizing: border-box;top: 0;bottom: 0;left: 50%;z-index: -1;}#sk-container-id-1 div.sk-parallel-item {display: flex;flex-direction: column;z-index: 1;position: relative;background-color: white;}#sk-container-id-1 div.sk-parallel-item:first-child::after {align-self: flex-end;width: 50%;}#sk-container-id-1 div.sk-parallel-item:last-child::after {align-self: flex-start;width: 50%;}#sk-container-id-1 div.sk-parallel-item:only-child::after {width: 0;}#sk-container-id-1 div.sk-dashed-wrapped {border: 1px dashed gray;margin: 0 0.4em 0.5em 0.4em;box-sizing: border-box;padding-bottom: 0.4em;background-color: white;}#sk-container-id-1 div.sk-label label {font-family: monospace;font-weight: bold;display: inline-block;line-height: 1.2em;}#sk-container-id-1 div.sk-label-container {text-align: center;}#sk-container-id-1 div.sk-container {/* jupyter's `normalize.less` sets `[hidden] { display: none; }` but bootstrap.min.css set `[hidden] { display: none !important; }` so we also need the `!important` here to be able to override the default hidden behavior on the sphinx rendered scikit-learn.org. See: https://github.com/scikit-learn/scikit-learn/issues/21755 */display: inline-block !important;position: relative;}#sk-container-id-1 div.sk-text-repr-fallback {display: none;}</style><div id=\"sk-container-id-1\" class=\"sk-top-container\"><div class=\"sk-text-repr-fallback\"><pre>LogisticRegression()</pre><b>In a Jupyter environment, please rerun this cell to show the HTML representation or trust the notebook. <br />On GitHub, the HTML representation is unable to render, please try loading this page with nbviewer.org.</b></div><div class=\"sk-container\" hidden><div class=\"sk-item\"><div class=\"sk-estimator sk-toggleable\"><input class=\"sk-toggleable__control sk-hidden--visually\" id=\"sk-estimator-id-1\" type=\"checkbox\" checked><label for=\"sk-estimator-id-1\" class=\"sk-toggleable__label sk-toggleable__label-arrow\">LogisticRegression</label><div class=\"sk-toggleable__content\"><pre>LogisticRegression()</pre></div></div></div></div></div>"
      ],
      "text/plain": [
       "LogisticRegression()"
      ]
     },
     "execution_count": 16,
     "metadata": {},
     "output_type": "execute_result"
    }
   ],
   "source": [
    "# fitting the logistic regression model to our training data. This trains the model on the independent variable x_train and the dependent variable y_train.\n",
    "clf.fit(x_train,y_train)"
   ]
  },
  {
   "cell_type": "code",
   "execution_count": 17,
   "id": "4435e241",
   "metadata": {
    "ExecuteTime": {
     "end_time": "2023-04-25T01:19:53.843065Z",
     "start_time": "2023-04-25T01:19:53.817302Z"
    }
   },
   "outputs": [],
   "source": [
    "# using the trained logistic regression model to predict the values of the dependent variable y for the testing data x_test. \n",
    "# The predicted values are stored in the variable y_pred.\n",
    "y_pred=clf.predict(x_test)"
   ]
  },
  {
   "cell_type": "code",
   "execution_count": 18,
   "id": "680238f5",
   "metadata": {
    "ExecuteTime": {
     "end_time": "2023-04-25T01:19:54.487506Z",
     "start_time": "2023-04-25T01:19:54.447335Z"
    },
    "scrolled": true
   },
   "outputs": [
    {
     "data": {
      "text/plain": [
       "131    0\n",
       "36     0\n",
       "217    0\n",
       "32     0\n",
       "380    0\n",
       "      ..\n",
       "49     0\n",
       "352    1\n",
       "163    0\n",
       "1      0\n",
       "106    0\n",
       "Name: Purchased, Length: 80, dtype: int64"
      ]
     },
     "execution_count": 18,
     "metadata": {},
     "output_type": "execute_result"
    }
   ],
   "source": [
    "# Accessing the values of the dependent variable y for the testing data. This variable contains the actual \n",
    "# values of y that we want to compare with the predicted values y_pred.\n",
    "y_test"
   ]
  },
  {
   "cell_type": "markdown",
   "id": "ead5bf70",
   "metadata": {},
   "source": [
    "# Calculating Accuracy"
   ]
  },
  {
   "cell_type": "code",
   "execution_count": 19,
   "id": "59ca1bf9",
   "metadata": {
    "ExecuteTime": {
     "end_time": "2023-04-25T01:19:56.457268Z",
     "start_time": "2023-04-25T01:19:56.438652Z"
    }
   },
   "outputs": [
    {
     "data": {
      "text/plain": [
       "88.75"
      ]
     },
     "execution_count": 19,
     "metadata": {},
     "output_type": "execute_result"
    }
   ],
   "source": [
    "# score() method of the logistic regression object, which returns the mean accuracy on the given test data and labels.\n",
    "clf.score(x_test,y_test)*100"
   ]
  },
  {
   "cell_type": "code",
   "execution_count": 20,
   "id": "32d00539",
   "metadata": {
    "ExecuteTime": {
     "end_time": "2023-04-25T01:19:57.137313Z",
     "start_time": "2023-04-25T01:19:57.097143Z"
    }
   },
   "outputs": [
    {
     "name": "stdout",
     "output_type": "stream",
     "text": [
      "0.1125\n"
     ]
    }
   ],
   "source": [
    "#Mean Squared error\n",
    "print(np.mean((y_pred-y_test)**2))"
   ]
  },
  {
   "cell_type": "code",
   "execution_count": 21,
   "id": "79c50a84",
   "metadata": {
    "ExecuteTime": {
     "end_time": "2023-04-25T01:19:58.126355Z",
     "start_time": "2023-04-25T01:19:57.868299Z"
    }
   },
   "outputs": [
    {
     "data": {
      "text/plain": [
       "Text(0, 0.5, 'Predicted Values')"
      ]
     },
     "execution_count": 21,
     "metadata": {},
     "output_type": "execute_result"
    },
    {
     "data": {
      "image/png": "[encoded data removed]",
      "text/plain": [
       "<Figure size 640x480 with 1 Axes>"
      ]
     },
     "metadata": {},
     "output_type": "display_data"
    }
   ],
   "source": [
    "# Whether or not a user purchased a product based on their age.\n",
    "#The four points located at the corners of the scatter plot may represent the extreme cases where the logistic function predicts either a very high or \n",
    "# very low probability of the binary outcome, and actual outcome is the opposite of the predicted probability. These cases may be due to outliers or anomalies in the data, \n",
    "plt.scatter(y_test,y_pred)\n",
    "plt.xlabel('Y Test')\n",
    "plt.ylabel('Predicted Values')"
   ]
  },
  {
   "cell_type": "markdown",
   "id": "1051b4a7",
   "metadata": {},
   "source": [
    "# Predictors as Age and EstimatedSalary"
   ]
  },
  {
   "cell_type": "code",
   "execution_count": 22,
   "id": "01265a45",
   "metadata": {
    "ExecuteTime": {
     "end_time": "2023-04-25T01:20:00.543394Z",
     "start_time": "2023-04-25T01:20:00.512159Z"
    }
   },
   "outputs": [],
   "source": [
    "#With age and estimated salary\n",
    "x1=df[['Age','EstimatedSalary']]\n",
    "y1=df['Purchased']\n",
    "# creates a new dataframe x1 that includes the predictor variables 'Age' and 'EstimatedSalary' from the original dataset df.\n",
    "# creates a new dataframe y1 that includes the target variable 'Purchased' from the original dataset df."
   ]
  },
  {
   "cell_type": "code",
   "execution_count": 23,
   "id": "e2ab0416",
   "metadata": {
    "ExecuteTime": {
     "end_time": "2023-04-25T01:20:01.610254Z",
     "start_time": "2023-04-25T01:20:01.588489Z"
    }
   },
   "outputs": [],
   "source": [
    "x_train1,x_test1,y_train1,y_test1=train_test_split(x1,y1,test_size=0.2)\n",
    "# The train_test_split() function from the scikit-learn library to split the data into training and testing sets. \n",
    "# The predictor variables x1 and target variable y1 are used as input, along with the test_size parameter which specifies that the testing set should be 20% of the total dataset. \n",
    "# The resulting splits are assigned to the variables x_train1, x_test1, y_train1, and y_test1, which represent the training and testing data for both the predictor and target variables. \n",
    "# These splits can be used to train and evaluate machine learning models."
   ]
  },
  {
   "cell_type": "code",
   "execution_count": 25,
   "id": "7fb16eb5",
   "metadata": {
    "ExecuteTime": {
     "end_time": "2023-04-25T01:20:02.296840Z",
     "start_time": "2023-04-25T01:20:02.281093Z"
    }
   },
   "outputs": [],
   "source": [
    "clf1=linear_model.LogisticRegression()\n",
    "# its a logistic regression model to the training data using the scikit-learn LogisticRegression() function \n",
    "# and assigns the resulting model to the variable clf1."
   ]
  },
  {
   "cell_type": "code",
   "execution_count": 25,
   "id": "9895c472",
   "metadata": {
    "ExecuteTime": {
     "end_time": "2023-04-25T01:20:03.219860Z",
     "start_time": "2023-04-25T01:20:03.191941Z"
    }
   },
   "outputs": [
    {
     "data": {
      "text/html": [
       "<style>#sk-container-id-2 {color: black;background-color: white;}#sk-container-id-2 pre{padding: 0;}#sk-container-id-2 div.sk-toggleable {background-color: white;}#sk-container-id-2 label.sk-toggleable__label {cursor: pointer;display: block;width: 100%;margin-bottom: 0;padding: 0.3em;box-sizing: border-box;text-align: center;}#sk-container-id-2 label.sk-toggleable__label-arrow:before {content: \"▸\";float: left;margin-right: 0.25em;color: #696969;}#sk-container-id-2 label.sk-toggleable__label-arrow:hover:before {color: black;}#sk-container-id-2 div.sk-estimator:hover label.sk-toggleable__label-arrow:before {color: black;}#sk-container-id-2 div.sk-toggleable__content {max-height: 0;max-width: 0;overflow: hidden;text-align: left;background-color: #f0f8ff;}#sk-container-id-2 div.sk-toggleable__content pre {margin: 0.2em;color: black;border-radius: 0.25em;background-color: #f0f8ff;}#sk-container-id-2 input.sk-toggleable__control:checked~div.sk-toggleable__content {max-height: 200px;max-width: 100%;overflow: auto;}#sk-container-id-2 input.sk-toggleable__control:checked~label.sk-toggleable__label-arrow:before {content: \"▾\";}#sk-container-id-2 div.sk-estimator input.sk-toggleable__control:checked~label.sk-toggleable__label {background-color: #d4ebff;}#sk-container-id-2 div.sk-label input.sk-toggleable__control:checked~label.sk-toggleable__label {background-color: #d4ebff;}#sk-container-id-2 input.sk-hidden--visually {border: 0;clip: rect(1px 1px 1px 1px);clip: rect(1px, 1px, 1px, 1px);height: 1px;margin: -1px;overflow: hidden;padding: 0;position: absolute;width: 1px;}#sk-container-id-2 div.sk-estimator {font-family: monospace;background-color: #f0f8ff;border: 1px dotted black;border-radius: 0.25em;box-sizing: border-box;margin-bottom: 0.5em;}#sk-container-id-2 div.sk-estimator:hover {background-color: #d4ebff;}#sk-container-id-2 div.sk-parallel-item::after {content: \"\";width: 100%;border-bottom: 1px solid gray;flex-grow: 1;}#sk-container-id-2 div.sk-label:hover label.sk-toggleable__label {background-color: #d4ebff;}#sk-container-id-2 div.sk-serial::before {content: \"\";position: absolute;border-left: 1px solid gray;box-sizing: border-box;top: 0;bottom: 0;left: 50%;z-index: 0;}#sk-container-id-2 div.sk-serial {display: flex;flex-direction: column;align-items: center;background-color: white;padding-right: 0.2em;padding-left: 0.2em;position: relative;}#sk-container-id-2 div.sk-item {position: relative;z-index: 1;}#sk-container-id-2 div.sk-parallel {display: flex;align-items: stretch;justify-content: center;background-color: white;position: relative;}#sk-container-id-2 div.sk-item::before, #sk-container-id-2 div.sk-parallel-item::before {content: \"\";position: absolute;border-left: 1px solid gray;box-sizing: border-box;top: 0;bottom: 0;left: 50%;z-index: -1;}#sk-container-id-2 div.sk-parallel-item {display: flex;flex-direction: column;z-index: 1;position: relative;background-color: white;}#sk-container-id-2 div.sk-parallel-item:first-child::after {align-self: flex-end;width: 50%;}#sk-container-id-2 div.sk-parallel-item:last-child::after {align-self: flex-start;width: 50%;}#sk-container-id-2 div.sk-parallel-item:only-child::after {width: 0;}#sk-container-id-2 div.sk-dashed-wrapped {border: 1px dashed gray;margin: 0 0.4em 0.5em 0.4em;box-sizing: border-box;padding-bottom: 0.4em;background-color: white;}#sk-container-id-2 div.sk-label label {font-family: monospace;font-weight: bold;display: inline-block;line-height: 1.2em;}#sk-container-id-2 div.sk-label-container {text-align: center;}#sk-container-id-2 div.sk-container {/* jupyter's `normalize.less` sets `[hidden] { display: none; }` but bootstrap.min.css set `[hidden] { display: none !important; }` so we also need the `!important` here to be able to override the default hidden behavior on the sphinx rendered scikit-learn.org. See: https://github.com/scikit-learn/scikit-learn/issues/21755 */display: inline-block !important;position: relative;}#sk-container-id-2 div.sk-text-repr-fallback {display: none;}</style><div id=\"sk-container-id-2\" class=\"sk-top-container\"><div class=\"sk-text-repr-fallback\"><pre>LogisticRegression()</pre><b>In a Jupyter environment, please rerun this cell to show the HTML representation or trust the notebook. <br />On GitHub, the HTML representation is unable to render, please try loading this page with nbviewer.org.</b></div><div class=\"sk-container\" hidden><div class=\"sk-item\"><div class=\"sk-estimator sk-toggleable\"><input class=\"sk-toggleable__control sk-hidden--visually\" id=\"sk-estimator-id-2\" type=\"checkbox\" checked><label for=\"sk-estimator-id-2\" class=\"sk-toggleable__label sk-toggleable__label-arrow\">LogisticRegression</label><div class=\"sk-toggleable__content\"><pre>LogisticRegression()</pre></div></div></div></div></div>"
      ],
      "text/plain": [
       "LogisticRegression()"
      ]
     },
     "execution_count": 25,
     "metadata": {},
     "output_type": "execute_result"
    }
   ],
   "source": [
    "clf1.fit(x_train1,y_train1\n",
    "# The fit() method is then called on the clf1 object, which trains the logistic regression model on the training data x_train1 and y_train1. \n",
    "# The logistic regression model learns to predict the target variable y_train1 based on the predictor variables x_train1 using a linear model and a logistic activation function."
   ]
  },
  {
   "cell_type": "code",
   "execution_count": 26,
   "id": "a8f8baca",
   "metadata": {
    "ExecuteTime": {
     "end_time": "2023-04-25T01:20:03.958337Z",
     "start_time": "2023-04-25T01:20:03.907439Z"
    }
   },
   "outputs": [
    {
     "data": {
      "text/plain": [
       "array([0, 0, 0, 0, 0, 0, 0, 0, 0, 0, 0, 0, 0, 0, 0, 0, 0, 0, 0, 0, 0, 0,\n",
       "       0, 0, 0, 0, 0, 0, 0, 0, 0, 0, 0, 0, 0, 0, 0, 0, 0, 0, 0, 0, 0, 0,\n",
       "       0, 0, 0, 0, 0, 0, 0, 0, 0, 0, 0, 0, 0, 0, 0, 0, 0, 0, 0, 0, 0, 0,\n",
       "       0, 0, 0, 0, 0, 0, 0, 0, 0, 0, 0, 0, 0, 0], dtype=int64)"
      ]
     },
     "execution_count": 26,
     "metadata": {},
     "output_type": "execute_result"
    }
   ],
   "source": [
    "clf1.predict(x_test1)\n",
    "# Predictions on new data using the predict() method."
   ]
  },
  {
   "cell_type": "code",
   "execution_count": 26,
   "id": "074a0667",
   "metadata": {
    "ExecuteTime": {
     "end_time": "2023-04-25T01:20:06.937545Z",
     "start_time": "2023-04-25T01:20:06.926709Z"
    }
   },
   "outputs": [
    {
     "data": {
      "text/plain": [
       "314    0\n",
       "182    1\n",
       "266    0\n",
       "65     0\n",
       "277    1\n",
       "      ..\n",
       "279    1\n",
       "385    1\n",
       "161    0\n",
       "393    1\n",
       "30     0\n",
       "Name: Purchased, Length: 80, dtype: int64"
      ]
     },
     "execution_count": 26,
     "metadata": {},
     "output_type": "execute_result"
    }
   ],
   "source": [
    "y_test1\n",
    "# Actual values of the target variable for the testing set in the logistic regression problem."
   ]
  },
  {
   "cell_type": "code",
   "execution_count": 28,
   "id": "54450078",
   "metadata": {
    "ExecuteTime": {
     "end_time": "2023-04-25T01:20:09.117337Z",
     "start_time": "2023-04-25T01:20:09.098268Z"
    }
   },
   "outputs": [
    {
     "data": {
      "text/plain": [
       "66.25"
      ]
     },
     "execution_count": 28,
     "metadata": {},
     "output_type": "execute_result"
    }
   ],
   "source": [
    "#Accuracy Decreases\n",
    "clf1.score(x_test1,y_test1)*100\n",
    "# clf1.score(x_test1,y_test1) is a method of the trained logistic regression model clf1 that takes the predictor variables x_test1 \n",
    "# as input and returns the accuracy of the model on the testing set, computed by comparing the predicted values to the true values in y_test1. \n",
    "# The result is then multiplied by 100 to convert the accuracy to a percentage."
   ]
  },
  {
   "cell_type": "code",
   "execution_count": 29,
   "id": "6acaa16f",
   "metadata": {
    "ExecuteTime": {
     "end_time": "2023-04-25T01:20:09.957529Z",
     "start_time": "2023-04-25T01:20:09.936411Z"
    }
   },
   "outputs": [
    {
     "data": {
      "text/plain": [
       "(29.75, 46.0)"
      ]
     },
     "execution_count": 29,
     "metadata": {},
     "output_type": "execute_result"
    }
   ],
   "source": [
    "#Removing Outliers\n",
    "Q1=df['Age'].quantile(0.25)\n",
    "Q3=df['Age'].quantile(0.75)\n",
    "Q1,Q3\n",
    "# first quartile of the 'Age' variable in the original dataset df using the quantile() method, with a parameter of 0.25 to specify the desired quartile. \n",
    "# Similarly, Q3=df['Age'].quantile(0.75) calculates the third quartile of the 'Age' variable. \n",
    "# These values can be used to calculate other statistics such as the interquartile range (IQR)."
   ]
  },
  {
   "cell_type": "code",
   "execution_count": 30,
   "id": "67b39c46",
   "metadata": {
    "ExecuteTime": {
     "end_time": "2023-04-25T01:20:10.787611Z",
     "start_time": "2023-04-25T01:20:10.767513Z"
    }
   },
   "outputs": [],
   "source": [
    "IQR=Q3-Q1\n",
    "# So, the code IQR=Q3-Q1 calculates the IQR of the 'Age' variable in the original dataset df by subtracting \n",
    "# the first quartile (Q1) from the third quartile (Q3)."
   ]
  },
  {
   "cell_type": "code",
   "execution_count": 31,
   "id": "ec85a6e3",
   "metadata": {
    "ExecuteTime": {
     "end_time": "2023-04-25T01:20:11.698397Z",
     "start_time": "2023-04-25T01:20:11.673499Z"
    }
   },
   "outputs": [
    {
     "data": {
      "text/plain": [
       "(5.375, 70.375)"
      ]
     },
     "execution_count": 31,
     "metadata": {},
     "output_type": "execute_result"
    }
   ],
   "source": [
    "lower_limit=Q1-1.5*IQR\n",
    "upper_limit=Q3+1.5*IQR\n",
    "lower_limit,upper_limit\n",
    "# lower_limit=Q1-1.5*IQR calculates the lower limit of the 'Age' variable in the original dataset df by subtracting 1.5 times \n",
    "# the IQR from the first quartile (Q1). Similarly, upper_limit=Q3+1.5*IQR calculates the upper \n",
    "# limit by adding 1.5 times the IQR to the third quartile (Q3)."
   ]
  },
  {
   "cell_type": "code",
   "execution_count": 33,
   "id": "71fd9fb6",
   "metadata": {
    "ExecuteTime": {
     "end_time": "2023-04-25T01:20:16.467422Z",
     "start_time": "2023-04-25T01:20:16.449650Z"
    }
   },
   "outputs": [
    {
     "data": {
      "text/html": [
       "<div>\n",
       "<style scoped>\n",
       "    .dataframe tbody tr th:only-of-type {\n",
       "        vertical-align: middle;\n",
       "    }\n",
       "\n",
       "    .dataframe tbody tr th {\n",
       "        vertical-align: top;\n",
       "    }\n",
       "\n",
       "    .dataframe thead th {\n",
       "        text-align: right;\n",
       "    }\n",
       "</style>\n",
       "<table border=\"1\" class=\"dataframe\">\n",
       "  <thead>\n",
       "    <tr style=\"text-align: right;\">\n",
       "      <th></th>\n",
       "      <th>User ID</th>\n",
       "      <th>Gender</th>\n",
       "      <th>Age</th>\n",
       "      <th>EstimatedSalary</th>\n",
       "      <th>Purchased</th>\n",
       "    </tr>\n",
       "  </thead>\n",
       "  <tbody>\n",
       "  </tbody>\n",
       "</table>\n",
       "</div>"
      ],
      "text/plain": [
       "Empty DataFrame\n",
       "Columns: [User ID, Gender, Age, EstimatedSalary, Purchased]\n",
       "Index: []"
      ]
     },
     "execution_count": 33,
     "metadata": {},
     "output_type": "execute_result"
    }
   ],
   "source": [
    "df[(df['Age']<lower_limit)|(df['Age']>upper_limit)]\n",
    "# The code returns a subset of the original dataset df where the 'Age' variable falls outside the inner fence, \n",
    "# which could be further inspected or processed depending on the goals of the analysis."
   ]
  },
  {
   "cell_type": "code",
   "execution_count": 34,
   "id": "48bfea92",
   "metadata": {
    "ExecuteTime": {
     "end_time": "2023-04-25T01:20:17.302731Z",
     "start_time": "2023-04-25T01:20:17.270817Z"
    }
   },
   "outputs": [],
   "source": [
    "# Conclusion is that their are no outliers in Age\n",
    "# Now check the outliers for EstimatedSalary"
   ]
  },
  {
   "cell_type": "code",
   "execution_count": 35,
   "id": "f55b286e",
   "metadata": {
    "ExecuteTime": {
     "end_time": "2023-04-25T01:20:17.652757Z",
     "start_time": "2023-04-25T01:20:17.617271Z"
    }
   },
   "outputs": [
    {
     "data": {
      "text/plain": [
       "(43000.0, 88000.0)"
      ]
     },
     "execution_count": 35,
     "metadata": {},
     "output_type": "execute_result"
    }
   ],
   "source": [
    "Q1=df['EstimatedSalary'].quantile(0.25)\n",
    "Q3=df['EstimatedSalary'].quantile(0.75)\n",
    "Q1,Q3"
   ]
  },
  {
   "cell_type": "code",
   "execution_count": 36,
   "id": "74c7f4ff",
   "metadata": {
    "ExecuteTime": {
     "end_time": "2023-04-25T01:20:18.765657Z",
     "start_time": "2023-04-25T01:20:18.738383Z"
    }
   },
   "outputs": [],
   "source": [
    "IQR=Q3-Q1"
   ]
  },
  {
   "cell_type": "code",
   "execution_count": 37,
   "id": "7c0237e5",
   "metadata": {
    "ExecuteTime": {
     "end_time": "2023-04-25T01:20:19.646407Z",
     "start_time": "2023-04-25T01:20:19.627396Z"
    }
   },
   "outputs": [
    {
     "data": {
      "text/plain": [
       "(-24500.0, 155500.0)"
      ]
     },
     "execution_count": 37,
     "metadata": {},
     "output_type": "execute_result"
    }
   ],
   "source": [
    "lower_limit=Q1-1.5*IQR\n",
    "upper_limit=Q3+1.5*IQR\n",
    "lower_limit,upper_limit"
   ]
  },
  {
   "cell_type": "code",
   "execution_count": 38,
   "id": "97350e44",
   "metadata": {
    "ExecuteTime": {
     "end_time": "2023-04-25T01:20:20.547201Z",
     "start_time": "2023-04-25T01:20:20.527496Z"
    }
   },
   "outputs": [
    {
     "data": {
      "text/html": [
       "<div>\n",
       "<style scoped>\n",
       "    .dataframe tbody tr th:only-of-type {\n",
       "        vertical-align: middle;\n",
       "    }\n",
       "\n",
       "    .dataframe tbody tr th {\n",
       "        vertical-align: top;\n",
       "    }\n",
       "\n",
       "    .dataframe thead th {\n",
       "        text-align: right;\n",
       "    }\n",
       "</style>\n",
       "<table border=\"1\" class=\"dataframe\">\n",
       "  <thead>\n",
       "    <tr style=\"text-align: right;\">\n",
       "      <th></th>\n",
       "      <th>User ID</th>\n",
       "      <th>Gender</th>\n",
       "      <th>Age</th>\n",
       "      <th>EstimatedSalary</th>\n",
       "      <th>Purchased</th>\n",
       "    </tr>\n",
       "  </thead>\n",
       "  <tbody>\n",
       "  </tbody>\n",
       "</table>\n",
       "</div>"
      ],
      "text/plain": [
       "Empty DataFrame\n",
       "Columns: [User ID, Gender, Age, EstimatedSalary, Purchased]\n",
       "Index: []"
      ]
     },
     "execution_count": 38,
     "metadata": {},
     "output_type": "execute_result"
    }
   ],
   "source": [
    "df[(df['EstimatedSalary']<lower_limit)|(df['EstimatedSalary']>upper_limit)]"
   ]
  },
  {
   "cell_type": "code",
   "execution_count": 39,
   "id": "1a474c75",
   "metadata": {
    "ExecuteTime": {
     "end_time": "2023-04-25T01:20:22.067575Z",
     "start_time": "2023-04-25T01:20:22.030504Z"
    }
   },
   "outputs": [],
   "source": [
    "# Conclusion is that their are no outliers in EstimatedSalary"
   ]
  },
  {
   "cell_type": "markdown",
   "id": "de26cf4b",
   "metadata": {},
   "source": [
    "# Model Evaluation"
   ]
  },
  {
   "cell_type": "code",
   "execution_count": 40,
   "id": "55364e5c",
   "metadata": {
    "ExecuteTime": {
     "end_time": "2023-04-25T01:20:22.847243Z",
     "start_time": "2023-04-25T01:20:22.830778Z"
    }
   },
   "outputs": [
    {
     "name": "stdout",
     "output_type": "stream",
     "text": [
      "              precision    recall  f1-score   support\n",
      "\n",
      "           0       0.90      0.90      0.90        52\n",
      "           1       0.82      0.82      0.82        28\n",
      "\n",
      "    accuracy                           0.88        80\n",
      "   macro avg       0.86      0.86      0.86        80\n",
      "weighted avg       0.88      0.88      0.88        80\n",
      "\n"
     ]
    }
   ],
   "source": [
    "from sklearn.metrics import classification_report\n",
    "print(classification_report(y_test,y_pred))\n",
    "# The classification_report function takes two arguments: y_test and y_pred. y_test contains the true labels of the test data, \n",
    "# while y_pred contains the predicted labels generated by a classification model."
   ]
  },
  {
   "cell_type": "code",
   "execution_count": 41,
   "id": "80bdde88",
   "metadata": {
    "ExecuteTime": {
     "end_time": "2023-04-25T01:20:26.479366Z",
     "start_time": "2023-04-25T01:20:26.237459Z"
    }
   },
   "outputs": [
    {
     "data": {
      "image/png": "[encoded data removed]",
      "text/plain": [
       "<Figure size 800x500 with 2 Axes>"
      ]
     },
     "metadata": {},
     "output_type": "display_data"
    }
   ],
   "source": [
    "from sklearn.metrics import confusion_matrix\n",
    "cm=confusion_matrix(y_test,y_pred)\n",
    "conf_matrix=pd.DataFrame(data=cm,columns=['Predicted:0','Predicted:1'],index=['Actual:0','Actual:1'])\n",
    "plt.figure(figsize = (8,5))\n",
    "sns.heatmap(conf_matrix, annot=True,fmt='d',cmap=\"YlGnBu\");\n",
    "# The confusion_matrix function takes two arguments: y_test and y_pred. y_test contains the true labels of the test data, \n",
    "# while y_pred contains the predicted labels generated by a classification model."
   ]
  },
  {
   "cell_type": "code",
   "execution_count": 42,
   "id": "994aa37d",
   "metadata": {
    "ExecuteTime": {
     "end_time": "2023-04-25T01:20:28.472009Z",
     "start_time": "2023-04-25T01:20:28.448244Z"
    }
   },
   "outputs": [],
   "source": [
    "TN=cm[0,0]\n",
    "TP=cm[1,1]\n",
    "FN=cm[1,0]\n",
    "FP=cm[0,1]\n",
    "# The four components of the confusion matrix (true negatives, true positives, false negatives, and false positives)\n",
    "sensitivity=TP/float(TP+FN)\n",
    "specificity=TN/float(TN+FP)\n",
    "# calculates the sensitivity (also known as recall or true positive rate) and specificity of the model. \n",
    "# Sensitivity measures the proportion of actual positives that are correctly identified as positive by the model, \n",
    "# while specificity measures the proportion of actual negatives that are correctly identified as negative."
   ]
  },
  {
   "cell_type": "code",
   "execution_count": 43,
   "id": "ad2ee937",
   "metadata": {
    "ExecuteTime": {
     "end_time": "2023-04-25T01:20:29.180254Z",
     "start_time": "2023-04-25T01:20:29.132842Z"
    }
   },
   "outputs": [
    {
     "name": "stdout",
     "output_type": "stream",
     "text": [
      "[[47  5]\n",
      " [ 5 23]]\n",
      "true negatives (TN): Both, actual and predicted values are false:  47\n",
      "true positives (TP): Both, actual and predicted values are true:  23\n",
      "false positives (FP): Predicted value is yes but actual is false:  5\n",
      "false negative (FN): Predicted value is no but actual is true:  5\n"
     ]
    }
   ],
   "source": [
    "print(cm)\n",
    "print('true negatives (TN): Both, actual and predicted values are false: ', TN)\n",
    "print('true positives (TP): Both, actual and predicted values are true: ', TP)\n",
    "print('false positives (FP): Predicted value is yes but actual is false: ', FN)\n",
    "print('false negative (FN): Predicted value is no but actual is true: ', FP)\n",
    "# The confusion matrix shows that there are a total of 80 test samples, out of which 47 are correctly classified as negative (true negatives), \n",
    "# 23 are correctly classified as positive (true positives), 5 are incorrectly classified as positive when they are actually negative (false positives), \n",
    "# and 5 are incorrectly classified as negative when they are actually positive (false negatives).\n",
    "# The true positives and true negatives represent the number of correct classifications, while the false positives \n",
    "# and false negatives represent the number of incorrect classifications. These values can be used to calculate various performance \n",
    "# metrics such as accuracy, precision, recall, and F1 score.\n",
    "# In this case, the model has a high number of true positives and true negatives, indicating good overall performance. \n",
    "# The false positives and false negatives are relatively low, which means the model makes relatively few mistakes."
   ]
  },
  {
   "cell_type": "code",
   "execution_count": 44,
   "id": "1bec2ea1",
   "metadata": {
    "ExecuteTime": {
     "end_time": "2023-04-25T01:23:09.108489Z",
     "start_time": "2023-04-25T01:23:09.037174Z"
    }
   },
   "outputs": [
    {
     "name": "stdout",
     "output_type": "stream",
     "text": [
      "The accuracy of the model = TP+TN/(TP+TN+FP+FN) =        0.875 \n",
      " The Misclassification = 1-Accuracy =                   0.125 \n",
      " Sensitivity or True Positive Rate = TP/(TP+FN) =        0.8214285714285714 \n",
      " Specificity or True Negative Rate = TN/(TN+FP) =        0.9038461538461539 \n",
      " Positive Predictive value = TP/(TP+FP) =                0.8214285714285714 \n",
      " Negative predictive Value = TN/(TN+FN) =                0.9038461538461539 \n",
      " Positive Likelihood Ratio = Sensitivity/(1-Specificity) =  8.542857142857143 \n",
      " Negative likelihood Ratio = (1-Sensitivity)/Specificity =  0.1975683890577508\n"
     ]
    }
   ],
   "source": [
    "print('The accuracy of the model = TP+TN/(TP+TN+FP+FN) =       ',(TP+TN)/float(TP+TN+FP+FN),'\\n',\n",
    "\n",
    "'The Misclassification = 1-Accuracy =                  ',1-((TP+TN)/float(TP+TN+FP+FN)),'\\n',\n",
    "\n",
    "'Sensitivity or True Positive Rate = TP/(TP+FN) =       ',TP/float(TP+FN),'\\n',\n",
    "\n",
    "'Specificity or True Negative Rate = TN/(TN+FP) =       ',TN/float(TN+FP),'\\n',\n",
    "\n",
    "'Positive Predictive value = TP/(TP+FP) =               ',TP/float(TP+FP),'\\n',\n",
    "\n",
    "'Negative predictive Value = TN/(TN+FN) =               ',TN/float(TN+FN),'\\n',\n",
    "\n",
    "'Positive Likelihood Ratio = Sensitivity/(1-Specificity) = ',sensitivity/(1-specificity),'\\n',\n",
    "\n",
    "'Negative likelihood Ratio = (1-Sensitivity)/Specificity = ',(1-sensitivity)/specificity)"
   ]
  },
  {
   "cell_type": "markdown",
   "id": "1773e5eb",
   "metadata": {},
   "source": [
    "-> The accuracy of the model is 0.875, which means that 87.5% of the test set instances were classified correctly by the model. The misclassification rate is 0.125, which means that 12.5% of the instances were classified incorrectly.\n",
    "\n",
    "-> The sensitivity (true positive rate) of the model is 0.821, which means that 82.1% of the actual positive instances were correctly classified as positive by the model. The specificity (true negative rate) of the model is 0.903, which means that 90.3% of the actual negative instances were correctly classified as negative by the model.\n",
    "\n",
    "-> The positive predictive value of the model is 0.821, which means that when the model predicts a positive instance, it is correct 82.1% of the time. The negative predictive value of the model is 0.903, which means that when the model predicts a negative instance, it is correct 90.3% of the time.\n",
    "\n",
    "-> The positive likelihood ratio of the model is 8.54, which means that the odds of a positive instance being correctly classified by the model are 8.54 times higher than the odds of a positive instance being incorrectly classified by the model. The negative likelihood ratio of the model is 0.20, which means that the odds of a negative instance being correctly classified by the model are 0.20 times the odds of a negative instance being incorrectly classified by the model."
   ]
  }
 ],
 "metadata": {
  "kernelspec": {
   "display_name": "Python 3 (ipykernel)",
   "language": "python",
   "name": "python3"
  },
  "language_info": {
   "codemirror_mode": {
    "name": "ipython",
    "version": 3
   },
   "file_extension": ".py",
   "mimetype": "text/x-python",
   "name": "python",
   "nbconvert_exporter": "python",
   "pygments_lexer": "ipython3",
   "version": "3.10.9"
  }
 },
 "nbformat": 4,
 "nbformat_minor": 5
}
